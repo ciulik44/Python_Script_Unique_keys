{
 "cells": [
  {
   "cell_type": "code",
   "execution_count": null,
   "metadata": {},
   "outputs": [],
   "source": [
    "import pandas as pd\n",
    "import os \n",
    "\n",
    "current_directory = os.getcwd()\n",
    "input_file_path = os.path.join(current_directory, \"data.csv\")\n",
    "df = pd.read_csv(input_file_path)\n"
   ]
  }
 ],
 "metadata": {
  "language_info": {
   "name": "python"
  }
 },
 "nbformat": 4,
 "nbformat_minor": 2
}
